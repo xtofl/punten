{
 "cells": [
  {
   "cell_type": "code",
   "execution_count": 28,
   "metadata": {},
   "outputs": [
    {
     "data": {
      "text/plain": [
       "'/home/xtofl/punten'"
      ]
     },
     "execution_count": 28,
     "metadata": {},
     "output_type": "execute_result"
    }
   ],
   "source": [
    "import pandas as pd\n",
    "import matplotlib.pyplot as plt\n",
    "import seaborn as sns\n",
    "\n",
    "sns.set(style=\"darkgrid\")\n",
    "import os\n",
    "os.getcwd()"
   ]
  },
  {
   "cell_type": "code",
   "execution_count": 70,
   "metadata": {},
   "outputs": [
    {
     "name": "stdout",
     "output_type": "stream",
     "text": [
      "                    Vakken  punt  max  gem  80+  70+  60+  50+  50-  positie\n",
      "0              Hoofdvakken   8.4   10  7.7    7    9    4    0    0      1.0\n",
      "1            Aardrijskunde   8.1   10  8.2   11    7    2    0    0      1.0\n",
      "2                 Biologie   7.8   10  8.0    9    8    2    1    0      2.0\n",
      "3                   Chemie   8.2   10  8.2   15    3    1    1    0      1.0\n",
      "4                   Fysica   7.7   10  7.9   10    5    5    0    0      2.0\n",
      "5               Nederlands   8.1   10  7.7   10    3    6    1    0      1.0\n",
      "6                 Wiskunde   9.0   10  7.6    5   10    4    1    0      NaN\n",
      "7            Wiskunde plus   8.9   10  6.5    2    6    8    7    3      1.0\n",
      "8            Andere Vakken   7.4   10  7.5    4   11    5    0    0      2.0\n",
      "9                   Engels   6.7   10  6.5    1    3   11    3    2      NaN\n",
      "10               Esthetica   6.2   10  7.4    6    5    8    1    0      3.0\n",
      "11                   Frans   6.7   10  6.8    0    7   10    1    1      3.0\n",
      "12            Geschiedenis   7.3   10  7.8    9    5    5    1    0      2.0\n",
      "13              Godsdienst   8.0   10  8.6   12    7    1    0    0      2.0\n",
      "14  Lichamelijke opvoeding   9.0   10  7.9   22   10    8    2    0      1.0\n",
      "                    Vakken  punt  max  gem  80+  70+  60+  50+  50-  positie\n",
      "0              Hoofdvakken   7.2   10  7.3    3    9    8    0    0        2\n",
      "1            Aardrijskunde   7.9   10  8.8   18    2    0    0    0        2\n",
      "2                 Biologie   5.8   10  5.9    0    5    2    7    6        4\n",
      "3                   Chemie   9.0   10  7.6   10    2    4    4    0        1\n",
      "4                   Fysica   7.8   10  7.8    7    9    4    0    0        2\n",
      "5               Nederlands   7.0   10  7.0    3    7    6    3    0        3\n",
      "6                 Wiskunde   6.5   10  6.9    4    3    8    5    0        3\n",
      "7            Wiskunde plus   7.3   10  7.1    3   12   10    1    0        2\n",
      "8            Andere Vakken   8.4   10  8.0   10    9    1    0    0        1\n",
      "9                   Engels   9.5   10  8.3   10    7    1    0    0        1\n",
      "10               Esthetica   8.7   10  8.6   19    1    0    0    0        1\n",
      "11                   Frans   7.9   10  6.9    4    5    5    5    1        2\n",
      "12            Geschiedenis   8.4   10  8.0   12    5    2    1    0        1\n",
      "13              Godsdienst   9.0   10  8.9   16    4    0    0    0        1\n",
      "14  Lichamelijke opvoeding   7.7   10  7.8   14   17   10    2    0        2\n"
     ]
    },
    {
     "data": {
      "text/plain": [
       "[None, None]"
      ]
     },
     "execution_count": 70,
     "metadata": {},
     "output_type": "execute_result"
    }
   ],
   "source": [
    "[print(pd.read_csv('rapport{}.tsv'.format(i), '\\t')) for i in [4, 5]]\n"
   ]
  },
  {
   "cell_type": "code",
   "execution_count": 33,
   "metadata": {},
   "outputs": [],
   "source": [
    "\n",
    "rapporten = {\n",
    "    \"20180328\": {\n",
    "        \"wiskunde\": {\n",
    "            \"score\": 9,\n",
    "            \"verdeling\": [5, 10, 4, 1, 0],\n",
    "            \"groep\": 1\n",
    "        },\n",
    "        \"wiskunde extra\": {\n",
    "            \"score\": 9,\n",
    "            \"verdeling\": [5, 10, 4, 1, 0],\n",
    "            \"groep\": 1\n",
    "        },\n",
    "    },\n",
    "    \"20180609\": {\n",
    "        \"wiskunde\": {\n",
    "            \"score\": 6.5,\n",
    "            \"verdeling\": [4, 3, 8, 5, 0],\n",
    "            \"groep\": 2\n",
    "        },\n",
    "        \"wiskunde extra\": {\n",
    "            \"score\": 6.5,\n",
    "            \"verdeling\": [4, 3, 8, 5, 0],\n",
    "            \"groep\": 2\n",
    "        },\n",
    "    }\n",
    "}"
   ]
  },
  {
   "cell_type": "code",
   "execution_count": 3,
   "metadata": {},
   "outputs": [
    {
     "data": {
      "text/plain": [
       "{'wiskunde': {'20180328': {'groep': 1,\n",
       "   'score': 9,\n",
       "   'verdeling': [5, 10, 4, 1, 0]},\n",
       "  '20180609': {'groep': 2, 'score': 6.5, 'verdeling': [4, 3, 8, 5, 0]}},\n",
       " 'wiskunde extra': {'20180328': {'groep': 1,\n",
       "   'score': 9,\n",
       "   'verdeling': [5, 10, 4, 1, 0]},\n",
       "  '20180609': {'groep': 2, 'score': 6.5, 'verdeling': [4, 3, 8, 5, 0]}}}"
      ]
     },
     "execution_count": 3,
     "metadata": {},
     "output_type": "execute_result"
    }
   ],
   "source": [
    "def per_vak():\n",
    "    vakken = next(iter(rapporten.values())).keys()\n",
    "    return {vak: {datum: rapport[vak] for datum, rapport in rapporten.items()} for vak in vakken}\n",
    "per_vak()\n"
   ]
  },
  {
   "cell_type": "code",
   "execution_count": 23,
   "metadata": {},
   "outputs": [
    {
     "ename": "ValueError",
     "evalue": "arrays must all be same length",
     "output_type": "error",
     "traceback": [
      "\u001b[0;31m---------------------------------------------------------------------------\u001b[0m",
      "\u001b[0;31mValueError\u001b[0m                                Traceback (most recent call last)",
      "\u001b[0;32m<ipython-input-23-4c0d463b595e>\u001b[0m in \u001b[0;36m<module>\u001b[0;34m()\u001b[0m\n\u001b[1;32m      8\u001b[0m     \u001b[0;34m'50+'\u001b[0m\u001b[0;34m:\u001b[0m  \u001b[0;34m[\u001b[0m\u001b[0;36m0\u001b[0m\u001b[0;34m,\u001b[0m     \u001b[0;36m0\u001b[0m\u001b[0;34m,\u001b[0m   \u001b[0;36m7\u001b[0m\u001b[0;34m,\u001b[0m \u001b[0;36m4\u001b[0m\u001b[0;34m,\u001b[0m \u001b[0;36m0\u001b[0m\u001b[0;34m,\u001b[0m \u001b[0;36m3\u001b[0m\u001b[0;34m,\u001b[0m \u001b[0;36m5\u001b[0m\u001b[0;34m,\u001b[0m \u001b[0;36m1\u001b[0m\u001b[0;34m]\u001b[0m\u001b[0;34m,\u001b[0m\u001b[0;34m\u001b[0m\u001b[0m\n\u001b[1;32m      9\u001b[0m     \u001b[0;34m'50-'\u001b[0m\u001b[0;34m:\u001b[0m  \u001b[0;34m[\u001b[0m\u001b[0;36m0\u001b[0m\u001b[0;34m,\u001b[0m     \u001b[0;36m0\u001b[0m\u001b[0;34m,\u001b[0m   \u001b[0;36m6\u001b[0m\u001b[0;34m,\u001b[0m \u001b[0;36m0\u001b[0m\u001b[0;34m,\u001b[0m \u001b[0;36m0\u001b[0m\u001b[0;34m,\u001b[0m \u001b[0;36m0\u001b[0m\u001b[0;34m,\u001b[0m \u001b[0;36m0\u001b[0m\u001b[0;34m,\u001b[0m \u001b[0;36m0\u001b[0m\u001b[0;34m]\u001b[0m\u001b[0;34m,\u001b[0m\u001b[0;34m\u001b[0m\u001b[0m\n\u001b[0;32m---> 10\u001b[0;31m     \u001b[0;34m'q'\u001b[0m\u001b[0;34m:\u001b[0m \u001b[0;34m[\u001b[0m\u001b[0;36m2\u001b[0m\u001b[0;34m,\u001b[0m \u001b[0;36m2\u001b[0m\u001b[0;34m,\u001b[0m \u001b[0;36m4\u001b[0m\u001b[0;34m,\u001b[0m \u001b[0;36m1\u001b[0m\u001b[0;34m,\u001b[0m \u001b[0;36m2\u001b[0m\u001b[0;34m,\u001b[0m \u001b[0;36m3\u001b[0m\u001b[0;34m,\u001b[0m \u001b[0;36m3\u001b[0m\u001b[0;34m,\u001b[0m \u001b[0;36m2\u001b[0m\u001b[0;34m]\u001b[0m\u001b[0;34m\u001b[0m\u001b[0m\n\u001b[0m\u001b[1;32m     11\u001b[0m })\n\u001b[1;32m     12\u001b[0m vakrapport5 = pd.DataFrame({\n",
      "\u001b[0;32m/usr/local/lib/python3.5/dist-packages/pandas/core/frame.py\u001b[0m in \u001b[0;36m__init__\u001b[0;34m(self, data, index, columns, dtype, copy)\u001b[0m\n\u001b[1;32m    346\u001b[0m                                  dtype=dtype, copy=copy)\n\u001b[1;32m    347\u001b[0m         \u001b[0;32melif\u001b[0m \u001b[0misinstance\u001b[0m\u001b[0;34m(\u001b[0m\u001b[0mdata\u001b[0m\u001b[0;34m,\u001b[0m \u001b[0mdict\u001b[0m\u001b[0;34m)\u001b[0m\u001b[0;34m:\u001b[0m\u001b[0;34m\u001b[0m\u001b[0m\n\u001b[0;32m--> 348\u001b[0;31m             \u001b[0mmgr\u001b[0m \u001b[0;34m=\u001b[0m \u001b[0mself\u001b[0m\u001b[0;34m.\u001b[0m\u001b[0m_init_dict\u001b[0m\u001b[0;34m(\u001b[0m\u001b[0mdata\u001b[0m\u001b[0;34m,\u001b[0m \u001b[0mindex\u001b[0m\u001b[0;34m,\u001b[0m \u001b[0mcolumns\u001b[0m\u001b[0;34m,\u001b[0m \u001b[0mdtype\u001b[0m\u001b[0;34m=\u001b[0m\u001b[0mdtype\u001b[0m\u001b[0;34m)\u001b[0m\u001b[0;34m\u001b[0m\u001b[0m\n\u001b[0m\u001b[1;32m    349\u001b[0m         \u001b[0;32melif\u001b[0m \u001b[0misinstance\u001b[0m\u001b[0;34m(\u001b[0m\u001b[0mdata\u001b[0m\u001b[0;34m,\u001b[0m \u001b[0mma\u001b[0m\u001b[0;34m.\u001b[0m\u001b[0mMaskedArray\u001b[0m\u001b[0;34m)\u001b[0m\u001b[0;34m:\u001b[0m\u001b[0;34m\u001b[0m\u001b[0m\n\u001b[1;32m    350\u001b[0m             \u001b[0;32mimport\u001b[0m \u001b[0mnumpy\u001b[0m\u001b[0;34m.\u001b[0m\u001b[0mma\u001b[0m\u001b[0;34m.\u001b[0m\u001b[0mmrecords\u001b[0m \u001b[0;32mas\u001b[0m \u001b[0mmrecords\u001b[0m\u001b[0;34m\u001b[0m\u001b[0m\n",
      "\u001b[0;32m/usr/local/lib/python3.5/dist-packages/pandas/core/frame.py\u001b[0m in \u001b[0;36m_init_dict\u001b[0;34m(self, data, index, columns, dtype)\u001b[0m\n\u001b[1;32m    457\u001b[0m             \u001b[0marrays\u001b[0m \u001b[0;34m=\u001b[0m \u001b[0;34m[\u001b[0m\u001b[0mdata\u001b[0m\u001b[0;34m[\u001b[0m\u001b[0mk\u001b[0m\u001b[0;34m]\u001b[0m \u001b[0;32mfor\u001b[0m \u001b[0mk\u001b[0m \u001b[0;32min\u001b[0m \u001b[0mkeys\u001b[0m\u001b[0;34m]\u001b[0m\u001b[0;34m\u001b[0m\u001b[0m\n\u001b[1;32m    458\u001b[0m \u001b[0;34m\u001b[0m\u001b[0m\n\u001b[0;32m--> 459\u001b[0;31m         \u001b[0;32mreturn\u001b[0m \u001b[0m_arrays_to_mgr\u001b[0m\u001b[0;34m(\u001b[0m\u001b[0marrays\u001b[0m\u001b[0;34m,\u001b[0m \u001b[0mdata_names\u001b[0m\u001b[0;34m,\u001b[0m \u001b[0mindex\u001b[0m\u001b[0;34m,\u001b[0m \u001b[0mcolumns\u001b[0m\u001b[0;34m,\u001b[0m \u001b[0mdtype\u001b[0m\u001b[0;34m=\u001b[0m\u001b[0mdtype\u001b[0m\u001b[0;34m)\u001b[0m\u001b[0;34m\u001b[0m\u001b[0m\n\u001b[0m\u001b[1;32m    460\u001b[0m \u001b[0;34m\u001b[0m\u001b[0m\n\u001b[1;32m    461\u001b[0m     \u001b[0;32mdef\u001b[0m \u001b[0m_init_ndarray\u001b[0m\u001b[0;34m(\u001b[0m\u001b[0mself\u001b[0m\u001b[0;34m,\u001b[0m \u001b[0mvalues\u001b[0m\u001b[0;34m,\u001b[0m \u001b[0mindex\u001b[0m\u001b[0;34m,\u001b[0m \u001b[0mcolumns\u001b[0m\u001b[0;34m,\u001b[0m \u001b[0mdtype\u001b[0m\u001b[0;34m=\u001b[0m\u001b[0;32mNone\u001b[0m\u001b[0;34m,\u001b[0m \u001b[0mcopy\u001b[0m\u001b[0;34m=\u001b[0m\u001b[0;32mFalse\u001b[0m\u001b[0;34m)\u001b[0m\u001b[0;34m:\u001b[0m\u001b[0;34m\u001b[0m\u001b[0m\n",
      "\u001b[0;32m/usr/local/lib/python3.5/dist-packages/pandas/core/frame.py\u001b[0m in \u001b[0;36m_arrays_to_mgr\u001b[0;34m(arrays, arr_names, index, columns, dtype)\u001b[0m\n\u001b[1;32m   7313\u001b[0m     \u001b[0;31m# figure out the index, if necessary\u001b[0m\u001b[0;34m\u001b[0m\u001b[0;34m\u001b[0m\u001b[0m\n\u001b[1;32m   7314\u001b[0m     \u001b[0;32mif\u001b[0m \u001b[0mindex\u001b[0m \u001b[0;32mis\u001b[0m \u001b[0;32mNone\u001b[0m\u001b[0;34m:\u001b[0m\u001b[0;34m\u001b[0m\u001b[0m\n\u001b[0;32m-> 7315\u001b[0;31m         \u001b[0mindex\u001b[0m \u001b[0;34m=\u001b[0m \u001b[0mextract_index\u001b[0m\u001b[0;34m(\u001b[0m\u001b[0marrays\u001b[0m\u001b[0;34m)\u001b[0m\u001b[0;34m\u001b[0m\u001b[0m\n\u001b[0m\u001b[1;32m   7316\u001b[0m \u001b[0;34m\u001b[0m\u001b[0m\n\u001b[1;32m   7317\u001b[0m     \u001b[0;31m# don't force copy because getting jammed in an ndarray anyway\u001b[0m\u001b[0;34m\u001b[0m\u001b[0;34m\u001b[0m\u001b[0m\n",
      "\u001b[0;32m/usr/local/lib/python3.5/dist-packages/pandas/core/frame.py\u001b[0m in \u001b[0;36mextract_index\u001b[0;34m(data)\u001b[0m\n\u001b[1;32m   7359\u001b[0m             \u001b[0mlengths\u001b[0m \u001b[0;34m=\u001b[0m \u001b[0mlist\u001b[0m\u001b[0;34m(\u001b[0m\u001b[0mset\u001b[0m\u001b[0;34m(\u001b[0m\u001b[0mraw_lengths\u001b[0m\u001b[0;34m)\u001b[0m\u001b[0;34m)\u001b[0m\u001b[0;34m\u001b[0m\u001b[0m\n\u001b[1;32m   7360\u001b[0m             \u001b[0;32mif\u001b[0m \u001b[0mlen\u001b[0m\u001b[0;34m(\u001b[0m\u001b[0mlengths\u001b[0m\u001b[0;34m)\u001b[0m \u001b[0;34m>\u001b[0m \u001b[0;36m1\u001b[0m\u001b[0;34m:\u001b[0m\u001b[0;34m\u001b[0m\u001b[0m\n\u001b[0;32m-> 7361\u001b[0;31m                 \u001b[0;32mraise\u001b[0m \u001b[0mValueError\u001b[0m\u001b[0;34m(\u001b[0m\u001b[0;34m'arrays must all be same length'\u001b[0m\u001b[0;34m)\u001b[0m\u001b[0;34m\u001b[0m\u001b[0m\n\u001b[0m\u001b[1;32m   7362\u001b[0m \u001b[0;34m\u001b[0m\u001b[0m\n\u001b[1;32m   7363\u001b[0m             \u001b[0;32mif\u001b[0m \u001b[0mhave_dicts\u001b[0m\u001b[0;34m:\u001b[0m\u001b[0;34m\u001b[0m\u001b[0m\n",
      "\u001b[0;31mValueError\u001b[0m: arrays must all be same length"
     ]
    }
   ],
   "source": [
    "vakrapport4 = pd.DataFrame({\n",
    "    'Vakken': ['Hoofdvakken', 'Aar', 'Bio', 'Chem', 'Fys', 'Ned', 'Wis', 'Wis+'],\n",
    "    'Punt': [8.4, 8.1, 7.8, 8.2, 7.7, 8.1, 9, 8.9],\n",
    "    'Gem':  [7.7, 8.2, 8.0, 8.2, 7.9, 7.7, 7.6, 6.5],\n",
    "    '80+':  [7, 11, 9, 15, 10, 10, 5, 2],\n",
    "    '70+':  [9, 7, 8, 3, 5, 3, 10, 5, 2],\n",
    "    '60+':  [8,     0,   2, 4, 4, 6, 8, 10],\n",
    "    '50+':  [0,     0,   7, 4, 0, 3, 5, 1],\n",
    "    '50-':  [0,     0,   6, 0, 0, 0, 0, 0],\n",
    "    'q': [2, 2, 4, 1, 2, 3, 3, 2]\n",
    "})\n",
    "vakrapport5 = pd.DataFrame({\n",
    "    'Vakken': ['Hoofdvakken', 'Aar', 'Bio', 'Chem', 'Fys', 'Ned', 'Wis', 'Wis+'],\n",
    "    'Punt': [7.2, 7.9, 5.8, 9, 7.8, 7, 6.5, 7.3],\n",
    "    'Gem':  [7.3, 8.8, 5.9, 7.6, 7.8, 7.0, 6.9, 7.1],\n",
    "    '80+':  [3,    18,   0, 10, 7, 3, 4, 3],\n",
    "    '70+':  [9,     2,   5, 2, 9, 7, 3, 12],\n",
    "    '60+':  [8,     0,   2, 4, 4, 6, 8, 10],\n",
    "    '50+':  [0,     0,   7, 4, 0, 3, 5, 1],\n",
    "    '50-':  [0,     0,   6, 0, 0, 0, 0, 0],\n",
    "    'q': [2, 2, 4, 1, 2, 3, 3, 2]\n",
    "})\n"
   ]
  },
  {
   "cell_type": "code",
   "execution_count": 22,
   "metadata": {},
   "outputs": [
    {
     "data": {
      "text/html": [
       "<div>\n",
       "<style scoped>\n",
       "    .dataframe tbody tr th:only-of-type {\n",
       "        vertical-align: middle;\n",
       "    }\n",
       "\n",
       "    .dataframe tbody tr th {\n",
       "        vertical-align: top;\n",
       "    }\n",
       "\n",
       "    .dataframe thead th {\n",
       "        text-align: right;\n",
       "    }\n",
       "</style>\n",
       "<table border=\"1\" class=\"dataframe\">\n",
       "  <thead>\n",
       "    <tr style=\"text-align: right;\">\n",
       "      <th></th>\n",
       "      <th>50+</th>\n",
       "      <th>50-</th>\n",
       "      <th>60+</th>\n",
       "      <th>70+</th>\n",
       "      <th>80+</th>\n",
       "      <th>Gem</th>\n",
       "      <th>Punt</th>\n",
       "      <th>Vakken</th>\n",
       "      <th>q</th>\n",
       "    </tr>\n",
       "  </thead>\n",
       "  <tbody>\n",
       "    <tr>\n",
       "      <th>0</th>\n",
       "      <td>0</td>\n",
       "      <td>0</td>\n",
       "      <td>8</td>\n",
       "      <td>9</td>\n",
       "      <td>3</td>\n",
       "      <td>7.3</td>\n",
       "      <td>7.2</td>\n",
       "      <td>Hoofdvakken</td>\n",
       "      <td>2</td>\n",
       "    </tr>\n",
       "    <tr>\n",
       "      <th>1</th>\n",
       "      <td>0</td>\n",
       "      <td>0</td>\n",
       "      <td>0</td>\n",
       "      <td>2</td>\n",
       "      <td>18</td>\n",
       "      <td>8.8</td>\n",
       "      <td>7.9</td>\n",
       "      <td>Aar</td>\n",
       "      <td>2</td>\n",
       "    </tr>\n",
       "    <tr>\n",
       "      <th>2</th>\n",
       "      <td>7</td>\n",
       "      <td>6</td>\n",
       "      <td>2</td>\n",
       "      <td>5</td>\n",
       "      <td>0</td>\n",
       "      <td>5.9</td>\n",
       "      <td>5.8</td>\n",
       "      <td>Bio</td>\n",
       "      <td>4</td>\n",
       "    </tr>\n",
       "    <tr>\n",
       "      <th>3</th>\n",
       "      <td>4</td>\n",
       "      <td>0</td>\n",
       "      <td>4</td>\n",
       "      <td>2</td>\n",
       "      <td>10</td>\n",
       "      <td>7.6</td>\n",
       "      <td>9.0</td>\n",
       "      <td>Chem</td>\n",
       "      <td>1</td>\n",
       "    </tr>\n",
       "    <tr>\n",
       "      <th>4</th>\n",
       "      <td>0</td>\n",
       "      <td>0</td>\n",
       "      <td>4</td>\n",
       "      <td>9</td>\n",
       "      <td>7</td>\n",
       "      <td>7.8</td>\n",
       "      <td>7.8</td>\n",
       "      <td>Fys</td>\n",
       "      <td>2</td>\n",
       "    </tr>\n",
       "  </tbody>\n",
       "</table>\n",
       "</div>"
      ],
      "text/plain": [
       "   50+  50-  60+  70+  80+  Gem  Punt       Vakken  q\n",
       "0    0    0    8    9    3  7.3   7.2  Hoofdvakken  2\n",
       "1    0    0    0    2   18  8.8   7.9          Aar  2\n",
       "2    7    6    2    5    0  5.9   5.8          Bio  4\n",
       "3    4    0    4    2   10  7.6   9.0         Chem  1\n",
       "4    0    0    4    9    7  7.8   7.8          Fys  2"
      ]
     },
     "execution_count": 22,
     "metadata": {},
     "output_type": "execute_result"
    }
   ],
   "source": [
    "vakrapport4.head()\n",
    "vakrapport5.head()\n"
   ]
  }
 ],
 "metadata": {
  "kernelspec": {
   "display_name": "Python 3",
   "language": "python",
   "name": "python3"
  },
  "language_info": {
   "codemirror_mode": {
    "name": "ipython",
    "version": 3
   },
   "file_extension": ".py",
   "mimetype": "text/x-python",
   "name": "python",
   "nbconvert_exporter": "python",
   "pygments_lexer": "ipython3",
   "version": "3.5.2"
  }
 },
 "nbformat": 4,
 "nbformat_minor": 2
}
